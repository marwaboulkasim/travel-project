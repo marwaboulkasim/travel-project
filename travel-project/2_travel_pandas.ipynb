{
 "cells": [
  {
   "cell_type": "markdown",
   "metadata": {},
   "source": [
    "# En voyage avec (des) pandas\n",
    "\n",
    "Suite à la première étape où vous avez découvert (ou révisé) des bases de Python, vous allez découvrir (ou réviser) l'utilisation de la bibliothèque **pandas** pour traiter un fichier csv travel_data.csv qui contient un carnet de voyage.\n",
    "\n",
    "Pour réaliser les exercices, utilisez la documentation officielle de pandas :  \n",
    "https://pandas.pydata.org/pandas-docs/stable/\n",
    "\n",
    "N'hésitez pas à rechercher les fonctions, méthodes et exemples nécessaires pour compléter les tâches demandées.  \n",
    "\n",
    "Chaque cellule de code est précédée d'une cellule TODO indiquant la liste des objectifs à atteindre.\n",
    "\n",
    "Répondez également dans le notebook aux petites questions proposées."
   ]
  },
  {
   "cell_type": "code",
   "execution_count": 11,
   "id": "b5c50044",
   "metadata": {},
   "outputs": [
    {
     "name": "stdout",
     "output_type": "stream",
     "text": [
      "Requirement already satisfied: pandas in ./.venv/lib/python3.12/site-packages (2.3.0)\n",
      "Requirement already satisfied: numpy>=1.26.0 in ./.venv/lib/python3.12/site-packages (from pandas) (2.3.1)\n",
      "Requirement already satisfied: python-dateutil>=2.8.2 in ./.venv/lib/python3.12/site-packages (from pandas) (2.9.0.post0)\n",
      "Requirement already satisfied: pytz>=2020.1 in ./.venv/lib/python3.12/site-packages (from pandas) (2025.2)\n",
      "Requirement already satisfied: tzdata>=2022.7 in ./.venv/lib/python3.12/site-packages (from pandas) (2025.2)\n",
      "Requirement already satisfied: six>=1.5 in ./.venv/lib/python3.12/site-packages (from python-dateutil>=2.8.2->pandas) (1.17.0)\n"
     ]
    }
   ],
   "source": [
    "# Il faut installer la bibliothèque pandas. On verra comment faire ça proprement plus tard.\n",
    "!pip install pandas"
   ]
  },
  {
   "cell_type": "markdown",
   "metadata": {},
   "source": [
    "# 1. Charger et afficher les données\n",
    "\n",
    "**TODO**\n",
    "\n",
    "- Importer la bibliothèque pandas sous l’alias `pd`  \n",
    "- Charger le fichier `travel_journal.csv` dans un DataFrame `df_trips`  \n",
    "- Afficher les 5 premières lignes du DataFrame  \n",
    "- Afficher les types de données des colonnes"
   ]
  },
  {
   "cell_type": "code",
   "execution_count": 12,
   "metadata": {},
   "outputs": [
    {
     "name": "stdout",
     "output_type": "stream",
     "text": [
      "        city        date weather     mood  photos\n",
      "0      Paris  2024-03-15   sunny    happy     150\n",
      "1       Lyon  2024-04-10  cloudy  curious      80\n",
      "2  Marseille  2024-05-05     NaN      sad      25\n",
      "3   Bordeaux  2024-06-20   sunny  excited     200\n",
      "4       Nice  2024-07-12   sunny  relaxed     180\n",
      "city       object\n",
      "date       object\n",
      "weather    object\n",
      "mood       object\n",
      "photos      int64\n",
      "dtype: object\n"
     ]
    }
   ],
   "source": [
    "import pandas as pd\n",
    "\n",
    "data = pd.read_csv(\"travel_data.csv\")\n",
    "print(data.head(5))\n",
    "print(data.dtypes)"
   ]
  },
  {
   "cell_type": "markdown",
   "metadata": {},
   "source": [
    "# 2. Nettoyer les données manquantes\n",
    "\n",
    "**TODO**\n",
    "\n",
    "- Identifier les lignes avec des valeurs manquantes dans le DataFrame  \n",
    "- Remplacer les valeurs manquantes dans la colonne `weather` par `\"unknown\"`  \n",
    "- Convertir la colonne `date` en format datetime  \n",
    "- Trier le DataFrame par date croissante\n",
    "- Exporter les données dans un fichier clean_travel_data.csv\n",
    "- A votre avis quel autre type de vérifications pourrait-on faire afin de nettoyer les données ?"
   ]
  },
  {
   "cell_type": "code",
   "execution_count": 13,
   "metadata": {},
   "outputs": [
    {
     "name": "stdout",
     "output_type": "stream",
     "text": [
      "datetime64[ns]\n",
      "           city       date  weather        mood  photos\n",
      "0         Paris 2024-03-15    sunny       happy     150\n",
      "10        Paris 2024-03-20   cloudy     excited     130\n",
      "1          Lyon 2024-04-10   cloudy     curious      80\n",
      "11         Lyon 2024-04-15    sunny      joyful      95\n",
      "2     Marseille 2024-05-05  unknown         sad      25\n",
      "12    Marseille 2024-05-10    sunny     relaxed      75\n",
      "3      Bordeaux 2024-06-20    sunny     excited     200\n",
      "13     Bordeaux 2024-06-25    rainy  thoughtful      30\n",
      "4          Nice 2024-07-12    sunny     relaxed     180\n",
      "14         Nice 2024-07-20    rainy         sad      40\n",
      "5    Strasbourg 2024-08-30    rainy  thoughtful      20\n",
      "15   Strasbourg 2024-09-05   cloudy       happy      55\n",
      "6      Toulouse 2024-09-15   cloudy       happy      90\n",
      "16     Toulouse 2024-09-20    sunny     curious      85\n",
      "7        Nantes 2024-10-05  unknown        calm      70\n",
      "17       Nantes 2024-10-10    sunny     excited      65\n",
      "8   Montpellier 2024-11-25    sunny      joyful     110\n",
      "18  Montpellier 2024-12-01    rainy       bored      35\n",
      "9      Grenoble 2024-12-10    snowy        cold     -15\n",
      "19     Grenoble 2024-12-15    snowy        calm      20\n"
     ]
    }
   ],
   "source": [
    "\n",
    "\n",
    "\n",
    "\n",
    "import pandas as pd\n",
    "\n",
    "# 1. Charger les données\n",
    "data = pd.read_csv(\"travel_data.csv\")\n",
    "\n",
    "# 2. Remplacer les valeurs manquantes dans la colonne 'weather' par 'unknown'\n",
    "data = data.fillna({'weather': 'unknown'})\n",
    "\n",
    "# 3. Convertir la colonne 'date' en format datetime\n",
    "data[\"date\"]=pd.to_datetime(data[\"date\"])\n",
    "print(data['date'].dtypes)\n",
    "\n",
    "#Convertir la colonne `date` en format datetime  \n",
    "data = data.sort_values(by='date', ascending=True)\n",
    "\n",
    "# 6. Afficher la DataFrame triée\n",
    "print(data)\n",
    "\n",
    "data.to_csv(\"clean_travel_data.csv\", index=False)\n",
    "\n",
    "\n",
    "\n",
    "#On peut aussi vérifier :\n",
    "#Les doublons, \n",
    "#colonnes vides \n",
    "#les types de données,"
   ]
  },
  {
   "cell_type": "markdown",
   "metadata": {},
   "source": [
    "# 3. Filtrer et trier les voyages\n",
    "\n",
    "**TODO**\n",
    "\n",
    "- Extraire les voyages où la météo est `\"sunny\"` et le nombre de photos est supérieur à 100  \n",
    "- Trier ces voyages par nombre de photos décroissant  \n",
    "- Afficher les colonnes `city`, `date`, `photos` du résultat filtré"
   ]
  },
  {
   "cell_type": "code",
   "execution_count": 20,
   "metadata": {},
   "outputs": [
    {
     "name": "stdout",
     "output_type": "stream",
     "text": [
      "          city       date weather     mood  photos\n",
      "0        Paris 2024-03-15   sunny    happy     150\n",
      "3     Bordeaux 2024-06-20   sunny  excited     200\n",
      "4         Nice 2024-07-12   sunny  relaxed     180\n",
      "8  Montpellier 2024-11-25   sunny   joyful     110\n",
      "          city       date weather     mood  photos\n",
      "0        Paris 2024-03-15   sunny    happy     150\n",
      "3     Bordeaux 2024-06-20   sunny  excited     200\n",
      "4         Nice 2024-07-12   sunny  relaxed     180\n",
      "8  Montpellier 2024-11-25   sunny   joyful     110\n",
      "          city       date  photos\n",
      "0        Paris 2024-03-15     150\n",
      "3     Bordeaux 2024-06-20     200\n",
      "4         Nice 2024-07-12     180\n",
      "8  Montpellier 2024-11-25     110\n"
     ]
    }
   ],
   "source": [
    "# Write your code here\n",
    "                     \n",
    "filtered_data = data[(data['weather'] == 'sunny') & (data['photos'] > 100)]\n",
    "print(filtered_data)\n",
    "\n",
    "filtered_data.sort_values(['photos'], ascending=True)\n",
    "print(filtered_data)\n",
    "print(filtered_data[['city', 'date', 'photos']])\n"
   ]
  },
  {
   "cell_type": "markdown",
   "metadata": {},
   "source": [
    "# 4. Groupements et agrégations\n",
    "\n",
    "**TODO**\n",
    "\n",
    "- Calculer le total des photos prises par ville  \n",
    "- Calculer la moyenne des photos selon la météo  \n",
    "- Compter le nombre de voyages par humeur (mood)"
   ]
  },
  {
   "cell_type": "code",
   "execution_count": 27,
   "metadata": {},
   "outputs": [
    {
     "name": "stdout",
     "output_type": "stream",
     "text": [
      "city\n",
      "Bordeaux       230\n",
      "Grenoble         5\n",
      "Lyon           175\n",
      "Marseille      100\n",
      "Montpellier    145\n",
      "Nantes         135\n",
      "Nice           220\n",
      "Paris          280\n",
      "Strasbourg      75\n",
      "Toulouse       175\n",
      "Name: photos, dtype: int64\n",
      "weather\n",
      "cloudy     55\n",
      "rainy      20\n",
      "snowy     -15\n",
      "sunny      65\n",
      "unknown    25\n",
      "Name: photos, dtype: int64\n",
      "mood\n",
      "happy         3\n",
      "excited       3\n",
      "curious       2\n",
      "joyful        2\n",
      "sad           2\n",
      "relaxed       2\n",
      "thoughtful    2\n",
      "calm          2\n",
      "bored         1\n",
      "cold          1\n",
      "Name: count, dtype: int64\n"
     ]
    }
   ],
   "source": [
    "# Write your code here\n",
    "total_photos_per_city = data.groupby('city')['photos'].sum()\n",
    "print(total_photos_per_city)\n",
    "\n",
    "total_moyenne_weather = data.groupby('weather')['photos'].min()\n",
    "print(total_moyenne_weather)\n",
    "\n",
    "\n",
    "\n",
    "voyages_par_humeur = data['mood'].value_counts()\n",
    "\n",
    "print(voyages_par_humeur)"
   ]
  },
  {
   "cell_type": "code",
   "execution_count": null,
   "id": "8fe0af6d",
   "metadata": {},
   "outputs": [],
   "source": []
  }
 ],
 "metadata": {
  "kernelspec": {
   "display_name": ".venv",
   "language": "python",
   "name": "python3"
  },
  "language_info": {
   "codemirror_mode": {
    "name": "ipython",
    "version": 3
   },
   "file_extension": ".py",
   "mimetype": "text/x-python",
   "name": "python",
   "nbconvert_exporter": "python",
   "pygments_lexer": "ipython3",
   "version": "3.12.3"
  }
 },
 "nbformat": 4,
 "nbformat_minor": 5
}
