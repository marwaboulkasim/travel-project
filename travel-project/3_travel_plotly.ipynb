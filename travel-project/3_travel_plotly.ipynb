{
 "cells": [
  {
   "cell_type": "markdown",
   "metadata": {},
   "source": [
    "# Visualisation des données avec Plotly\n",
    "\n",
    "A présent que vous savez manipuler les données avec pandas, vous allez apprendre à représenter les données sous forme de jolis graphiques à l'aide de la bibliothèque **Plotly Express**.  \n",
    "On utilisera le fichier **clean_travel_data.csv** comme base.\n",
    "\n",
    "Pour vous aider, voici la documentation officielle de Plotly :  \n",
    "https://plotly.com/python/plotly-express/\n",
    "\n",
    "N'hésitez pas à rechercher les fonctions, paramètres et exemples nécessaires pour réaliser les tâches demandées.  \n",
    "\n",
    "Chaque cellule de code est précédée d'une cellule TODO indiquant la liste des objectifs à atteindre.\n",
    "\n",
    "Répondez également aux quelques petites questions des TODO s'il y en a."
   ]
  },
  {
   "cell_type": "code",
   "execution_count": null,
   "id": "037a8a00",
   "metadata": {},
   "outputs": [
    {
     "ename": "",
     "evalue": "",
     "output_type": "error",
     "traceback": [
      "\u001b[1;31mRunning cells with 'Python 3.12.3' requires the ipykernel package.\n",
      "\u001b[1;31m<a href='command:jupyter.createPythonEnvAndSelectController'>Create a Python Environment</a> with the required packages.\n",
      "\u001b[1;31mOr install 'ipykernel' using the command: '/bin/python3 -m pip install ipykernel -U --user --force-reinstall'"
     ]
    }
   ],
   "source": [
    "# Il faut installer la bibliothèque plotly. On verra comment faire ça proprement plus tard.\n",
    "import pandas as pd\n",
    "import plotly.express as px\n",
    "!pip install --upgrade nbformat\n",
    "!pip install ipython"
   ]
  },
  {
   "cell_type": "markdown",
   "metadata": {},
   "source": [
    "# 1. Nombre total de photos par ville"
   ]
  },
  {
   "cell_type": "markdown",
   "metadata": {},
   "source": [
    "**TODO**\n",
    "\n",
    "- Importer plotly.express sous le nom px\n",
    "- Créer un graphique en barres représentant le total de photos par ville\n",
    "- Trier les villes selon le nombre de photos de manière décroissante\n",
    "- Afficher le graphique"
   ]
  },
  {
   "cell_type": "code",
   "execution_count": null,
   "metadata": {},
   "outputs": [],
   "source": [
    "import plotly.express as px        \n",
    "import pandas as pd               \n",
    "\n",
    "# Charger les données depuis le fichier CSV\n",
    "data = pd.read_csv(\"clean_travel_data.csv\")\n",
    "\n",
    "# Regrouper les données par ville et calculer le total de photos par ville\n",
    "photos_par_ville = data.groupby(\"city\", as_index=False)[\"photos\"].sum()\n",
    "\n",
    "# Trier les villes par nombre de photos (ordre décroissant)\n",
    "photos_par_ville = photos_par_ville.sort_values(by=\"photos\", ascending=False)\n",
    "\n",
    "# Créer un graphique\n",
    "fig = px.bar(\n",
    "    photos_par_ville,\n",
    "    x=\"city\",\n",
    "    y=\"photos\",\n",
    "    title=\"Nombre total de photos par ville (tri décroissant)\",\n",
    "    labels={\"city\": \"Ville\", \"photos\": \"Nombre de photos\"}\n",
    ")\n",
    "\n",
    "\n",
    "fig.show()\n"
   ]
  },
  {
   "cell_type": "markdown",
   "metadata": {},
   "source": [
    "# 2. Répartition des humeurs (mood) en camembert"
   ]
  },
  {
   "cell_type": "markdown",
   "metadata": {},
   "source": [
    "**TODO**\n",
    "\n",
    "- Créer un graphique en camembert basé sur la répartition des humeurs (colonne mood)\n",
    "- Afficher les pourcentages sur chaque tranche\n",
    "- Afficher le graphique"
   ]
  },
  {
   "cell_type": "code",
   "execution_count": null,
   "metadata": {},
   "outputs": [],
   "source": [
    "# Création du graphique\n",
    "fig = px.pie(data,                 # Utilise les données du DataFrame 'data'\n",
    "             names='mood',         # Catégories affichées dans le camembert (ici, les différentes humeurs)\n",
    "             title='Répartition des humeurs',  # Titre du graphique\n",
    "             hole=0.1)               # Valeur 0 \n",
    "# Affichage des % sur chaque part du camembert\n",
    "fig.update_traces(textinfo='percent+label')  # Affiche le pourcentage et le nom de chaque humeur\n",
    "\n",
    "# Affichage du graphique\n",
    "fig.show()  # Ouvre le graphique interactif (dans un notebook ou navigateur)\n"
   ]
  },
  {
   "cell_type": "markdown",
   "metadata": {},
   "source": [
    "# 3. Évolution du nombre de photos dans le temps"
   ]
  },
  {
   "cell_type": "markdown",
   "metadata": {},
   "source": [
    "**TODO**\n",
    "\n",
    "- Créer un graphique en ligne avec la date sur l'axe des x et le nombre de photos sur l'axe des y\n",
    "- Colorer les lignes ou points selon la météo (weather)\n",
    "- Afficher le graphique\n",
    "- Que remarquez vous ? Qu'auriez du vous faire ?"
   ]
  },
  {
   "cell_type": "code",
   "execution_count": null,
   "metadata": {},
   "outputs": [],
   "source": [
    "import pandas as pd              # Bibliothèque pour manipuler les données sous forme de tableau\n",
    "import plotly.express as px      # Bibliothèque pour créer des graphiques interactifs\n",
    "\n",
    "# Charger les données depuis le fichier CSV\n",
    "data = pd.read_csv(\"clean_travel_data.csv\")  # Le fichier doit contenir au moins les colonnes : date, photos, weather\n",
    "\n",
    "# Modifier la valeur (ville = Grenoble, date = 2024-12-10 par exemple)\n",
    "data.loc[(data['city'] == 'Grenoble') & (data['date'] == '2024-12-10'), 'photos'] = 15\n",
    "\n",
    "# Vérifier la modification\n",
    "print(data[data['city'] == 'Grenoble'])\n",
    "\n",
    "# Créer un graphique en ligne  pour visualiser le nombre de photos en fonction de la date et de la météo\n",
    "fig = px.line(\n",
    "    data,                        \n",
    "    x='date',                   \n",
    "    y='photos',                  \n",
    "    color='weather',             \n",
    "    title='Nombre de photos par date selon la météo',  # Titre du graphique\n",
    "    labels={\n",
    "        'date': 'Date', \n",
    "        'photos': 'Nombre de photo', \n",
    "        'weather': 'Météo'\n",
    "    }  \n",
    ")\n",
    "\n",
    "# Afficher le graphique interactif\n",
    "fig.show()\n",
    "\n",
    "# Analyse des observations (commentaires) :\n",
    "# - On remarque que le nombre de photos varie selon la météo.\n",
    "# - Il faudrait corriger les valeurs négatives et les données manquantes.\n",
    "# - Supprimer ou ajuster les données incomplètes (ex : météo = \"unknown\").\n",
    "# - Les jours\n"
   ]
  },
  {
   "cell_type": "markdown",
   "metadata": {},
   "source": [
    "# 4. Distribution du nombre de photos selon la météo"
   ]
  },
  {
   "cell_type": "markdown",
   "metadata": {},
   "source": [
    "**TODO**\n",
    "\n",
    "- Créer un diagramme en boîte (box plot) pour visualiser la répartition du nombre de photos selon la météo\n",
    "- Afficher le graphique\n",
    "- Quelles conclusions tirez-vous de ce graphe ?"
   ]
  },
  {
   "cell_type": "code",
   "execution_count": null,
   "id": "f1c8cb72",
   "metadata": {},
   "outputs": [],
   "source": [
    "# Convertir la colonne 'date' au format datetime (utile pour les analyses temporelles)\n",
    "data['date'] = pd.to_datetime(data['date']) \n",
    "\n",
    "# Charger les données depuis le fichier CSV\n",
    "data = pd.read_csv(\"clean_travel_data.csv\")  \n",
    "# Créer un box plot pour analyser la répartition du nombre de photos en fonction de la météo\n",
    "fig = px.box(\n",
    "    data,                       \n",
    "    x='weather',                 #les différentes conditions météo \n",
    "    y='photos',                  #nombre de photos prises\n",
    "    color='weather',            \n",
    "    title='Répartition du nombre de photos selon la météo',  # Titre du graphique\n",
    "    labels={\n",
    "        'weather': 'Météo',\n",
    "        'photos': 'Nombre de photos'\n",
    "    }  # Étiquettes personnalisées pour les axes\n",
    ")\n",
    "\n",
    "# Afficher le graphique interactif\n",
    "fig.show()\n"
   ]
  },
  {
   "cell_type": "markdown",
   "metadata": {},
   "source": [
    "# 5. Nuage de points photos vs humeur"
   ]
  },
  {
   "cell_type": "markdown",
   "metadata": {},
   "source": [
    "**TODO**\n",
    "\n",
    "- Créer un graphique de type scatter plot avec mood en abscisse et photos en ordonnée\n",
    "- Ajouter une info-bulle avec les noms de ville\n",
    "- Afficher le graphique"
   ]
  },
  {
   "cell_type": "code",
   "execution_count": null,
   "metadata": {},
   "outputs": [
    {
     "ename": "",
     "evalue": "",
     "output_type": "error",
     "traceback": [
      "\u001b[1;31mRunning cells with 'Python 3.12.3' requires the ipykernel package.\n",
      "\u001b[1;31m<a href='command:jupyter.createPythonEnvAndSelectController'>Create a Python Environment</a> with the required packages.\n",
      "\u001b[1;31mOr install 'ipykernel' using the command: '/bin/python3 -m pip install ipykernel -U --user --force-reinstall'"
     ]
    }
   ],
   "source": [
    "# Charger les données\n",
    "data = pd.read_csv(\"clean_travel_data.csv\")\n",
    "\n",
    "# Créer le scatter plot\n",
    "fig = px.scatter(\n",
    "    data,\n",
    "    x='mood',\n",
    "    y='photos',\n",
    "    hover_name='city', \n",
    "    color= 'weather',\n",
    "    title='Photos par humeur selon les villes',\n",
    "    labels={'mood': 'Humeur', 'photos': 'Nombre de photos'}\n",
    ")\n",
    "fig.show()"
   ]
  },
  {
   "cell_type": "code",
   "execution_count": null,
   "id": "9a2e9238",
   "metadata": {},
   "outputs": [],
   "source": []
  }
 ],
 "metadata": {
  "kernelspec": {
   "display_name": "Python 3",
   "language": "python",
   "name": "python3"
  },
  "language_info": {
   "codemirror_mode": {
    "name": "ipython",
    "version": 3
   },
   "file_extension": ".py",
   "mimetype": "text/x-python",
   "name": "python",
   "nbconvert_exporter": "python",
   "pygments_lexer": "ipython3",
   "version": "3.12.3"
  }
 },
 "nbformat": 4,
 "nbformat_minor": 5
}
