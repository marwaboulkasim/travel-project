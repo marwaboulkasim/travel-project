{
 "cells": [
  {
   "cell_type": "markdown",
   "id": "afa68136",
   "metadata": {},
   "source": [
    "# En voyage avec (un) python\n",
    "\n",
    "Dans ce notebook on vous propose de découvrir quelques bases de python en s'intéressant à des carnets de voyage."
   ]
  },
  {
   "cell_type": "markdown",
   "id": "bf55835c",
   "metadata": {},
   "source": [
    "### 1 – Moyenne de photos prises par jour  \n",
    "On stocke des informations sur un voyage (_variables_), on calcule le nombre de photos prises par jour, et on affiche le résumé (`print`).\n",
    "\n",
    "Les f-strings permettent de faire de l'affichage (`print`) sans utiliser de virgules si vous voulez afficher à la fois du texte et une variable.\n",
    "\n",
    "Exemple : \n",
    "\n",
    "```print(f'Ma variable est égale à {nom_de_ma_variable})```\n",
    "\n",
    "\n",
    "Les # permettent d'écrire des commentaires, c'est-à-dire des lignes qui ne font pas parties du code au moment de l'éxécution.\n",
    "\n",
    "**TODO**\n",
    "\n",
    "- Calculer le nombre moyen de photos pris par jour durant le voyage,\n",
    "- Ajouter une nouvelle variable de votre choix et un nouveau calcul de variable,\n",
    "- Utiliser cette méthode pour afficher le nombre moyen de photo prises par jour."
   ]
  },
  {
   "cell_type": "code",
   "execution_count": 1,
   "id": "b05d9e4b",
   "metadata": {},
   "outputs": [
    {
     "name": "stdout",
     "output_type": "stream",
     "text": [
      "<class 'str'>\n"
     ]
    }
   ],
   "source": [
    "# Define variables for the trip\n",
    "city = \"Montpellier\" \n",
    "\n",
    "# Plot variable type\n",
    "print(type(city)) # string = chaîne de caractères\n",
    "\n",
    "department = 34\n",
    "days_spent = 5.5 # float = nombre \n",
    "photos_taken = 230 # integer = nombre entier\n",
    "great_trip = True # boolean = vrai ou faux"
   ]
  },
  {
   "cell_type": "code",
   "execution_count": 2,
   "id": "0063454a",
   "metadata": {},
   "outputs": [
    {
     "name": "stdout",
     "output_type": "stream",
     "text": [
      "True\n",
      "True\n"
     ]
    }
   ],
   "source": [
    "# Compare variables\n",
    "print(photos_taken > 200) # > est un opérateur de comparaison\n",
    "print(great_trip == True) # == is equal to, True if values are equal, False otherwise"
   ]
  },
  {
   "cell_type": "code",
   "execution_count": 3,
   "id": "4f0fbe5c",
   "metadata": {},
   "outputs": [
    {
     "name": "stdout",
     "output_type": "stream",
     "text": [
      "City Montpellier\n",
      "Days Spent 4\n",
      "Nombre moyen de photos prises par jour : 50.00\n",
      "Budget moyen dépensé par jour : 96.25 €\n"
     ]
    }
   ],
   "source": [
    "# TODO Add new variable\n",
    "budget_total = 385.0\n",
    "photos_taken = 200\n",
    "days_spent = 4\n",
    "city = \"Montpellier\"\n",
    "\n",
    "# TODO Calculate average photos per day\n",
    "average_photos_per_day = photos_taken / days_spent\n",
    "\n",
    "# TODO Calculate something else using your new variable\n",
    "average_budget_per_day = budget_total / days_spent\n",
    "\n",
    "\n",
    "\n",
    "# Print text and variables \n",
    "print(\"City\", city)\n",
    "print(\"Days Spent\", days_spent)\n",
    "\n",
    "# TODO Print average number of photo using f-strings\n",
    "print(f\"Nombre moyen de photos prises par jour : {average_photos_per_day:.2f}\")\n",
    "print(f\"Budget moyen dépensé par jour : {average_budget_per_day:.2f} €\")"
   ]
  },
  {
   "cell_type": "markdown",
   "id": "dff2a6fe",
   "metadata": {},
   "source": [
    "### 2 – Analyser la météo  \n",
    "\n",
    "__Syntaxe__\n",
    "\n",
    "```\n",
    "# Si la condition_1 est True, alors faire la task_1\n",
    "if condition_1:\n",
    "    faire task_1\n",
    "# Si la condition 2 est True, alors faire la task_2\n",
    "elif condtion_2: \n",
    "    faire task_2\n",
    "# Si la condition 2 est True, alors faire la task_2\n",
    "elif condtion_3: \n",
    "    faire task_3\n",
    "# Sinon faire la task_4\n",
    "else:\n",
    "    faire task_4\n",
    "```\n",
    "\n",
    "Pour la syntaxe et des exemples de conditions, voir la partie précédente du code #Compare variables\n",
    "\n",
    "**TODO**\n",
    "\n",
    "- Créer une liste de plusieurs chaînes de caractères contenant des indications de météo [`string`, `string`].\n",
    "- Créer une variable qui indique la météo d'un jour particulier (`string`).\n",
    "- Analyser la météo et afficher un message personnalisé selon le cas ( `if`, `elif`, `else`).\n",
    "\n",
    "\n"
   ]
  },
  {
   "cell_type": "code",
   "execution_count": null,
   "id": "61cc3382",
   "metadata": {},
   "outputs": [
    {
     "name": "stdout",
     "output_type": "stream",
     "text": [
      "Unknown weather type.\n"
     ]
    }
   ],
   "source": [
    "# Set the weather condition\n",
    "weather = \"orageux\"\n",
    "\n",
    "# List of accepted weather values (at least 3 different value)\n",
    "valid_weather = [\"ensoleillé\", \"nuageux\",\"pluvieux\"] # List #TODO\n",
    "\n",
    "# Check if the weather is in the list of valid_weather values\n",
    "if weather not in valid_weather:\n",
    "   #TODO compléter la condition :\n",
    "\n",
    "    print(\"Unknown weather type.\")\n",
    "else:\n",
    "    if weather == \"soleil\":\n",
    "        print(\"N'oublie pas ta crème solaire!\")\n",
    "    elif weather == \"pluie\":\n",
    "        print(\"N'oublie pas ton parapluie!\")\n",
    "    elif weather == \"nuage\":\n",
    "        print(\"Le ciel est gris aujourd'hui.\")\n",
    "\n",
    "\n",
    "    # TODO Test if weather is in valid_weather and display a personalized message"
   ]
  },
  {
   "cell_type": "markdown",
   "id": "8ea60ed0",
   "metadata": {},
   "source": [
    "### 3 - Un dictionnaire de voyage\n",
    "On peut stocker un voyage avec les informations associées dans un dictionnaire.\n",
    "\n",
    "__Syntaxe__\n",
    "\n",
    "\n",
    "````\n",
    "trip = {\"nom information 1\": valeur information 1, \"nom information 2\": valeur information 2}\n",
    "````\n",
    "\n",
    "- Il peut y avoir autant de paire clé/valeur que l'on souhaite.\n",
    "\n",
    "- La clé est nécéssairement une __chaîne de caractère__, la valeur de n'importe quel type (même un autre dictionnaire).\n",
    "\n",
    "\n",
    "\n",
    "````print(trip[\"nom information 1\"])```` affiche ````valeur information 1````\n",
    "\n",
    "````trip[\"nom information 1\"]) = nouvelle valeur````\n",
    "\n",
    "\n",
    "\n",
    "**TODO**\n",
    "\n",
    "- Ajouter au moins deux autres paires de clé/valeur dans le dictionnaire suivant.\n",
    "- Afficher un petit résumé du voyage, incluant un calcul du nombre moyen de photo prises par jour"
   ]
  },
  {
   "cell_type": "code",
   "execution_count": 5,
   "id": "3fce9517",
   "metadata": {},
   "outputs": [
    {
     "name": "stdout",
     "output_type": "stream",
     "text": [
      "Résumé du voyage 1 :\n",
      "Ville : Montpellier (département 34)\n",
      "Durée : 5.5 jours\n",
      "Photos : 150 photos\n",
      "Dépenses : 2500 €\n",
      "\n",
      "Résumé du voyage 2 :\n",
      "Ville : Paris (département 75)\n",
      "Durée : 7 jours\n",
      "Photos : 200 photos\n",
      "Dépenses : 3200 €\n",
      "\n"
     ]
    }
   ],
   "source": [
    "# Create a dictionary for one trip\n",
    "\n",
    "#TODO Ajouter des paires clé-valeur de votre choix\n",
    "\n",
    "\n",
    "trip1 = {\n",
    "    \"city\": \"Montpellier\",\n",
    "    \"department\": 34,\n",
    "    \"photos_taken\": 150,\n",
    "    \"days_spent\": 5.5,\n",
    "    \"total_money_spent\": 2500\n",
    "}\n",
    "\n",
    "trip2 = {\n",
    "    \"city\": \"Paris\",\n",
    "    \"department\": 75,\n",
    "    \"photos_taken\": 200,\n",
    "    \"days_spent\": 7,\n",
    "    \"total_money_spent\": 3200\n",
    "}\n",
    "\n",
    "def print_trip_summary(trip, trip_number):\n",
    "    print(f\"Résumé du voyage {trip_number} :\")\n",
    "    print(f\"Ville : {trip['city']} (département {trip['department']})\")\n",
    "    print(f\"Durée : {trip['days_spent']} jours\")\n",
    "    print(f\"Photos : {trip['photos_taken']} photos\")\n",
    "    print(f\"Dépenses : {trip['total_money_spent']} €\\n\")\n",
    "\n",
    "print_trip_summary(trip1, 1)\n",
    "print_trip_summary(trip2, 2)"
   ]
  },
  {
   "cell_type": "markdown",
   "id": "87488af5",
   "metadata": {},
   "source": [
    "### 4 - Carnet de voyage  \n",
    "\n",
    "On stocke plusieurs voyages dans une liste et on les affiche un à un.\n",
    "\n",
    "On peut parcourir tous les éléments d'une liste en faisant une boucle ```for```.\n",
    "\n",
    "__Syntaxe__\n",
    "\n",
    "\n",
    "````\n",
    "my_list = [element_1, element_2]\n",
    "for element in my_list:\n",
    "    print(element)\n",
    "````\n",
    "\n",
    "**TODO**\n",
    "- Afficher un élément de la liste. Ex : `my_list[0]` affiche le premier élément\n",
    "- Compter le nombre de voyage en utilisant `len(my_list)`\n",
    "- Pour chaque voyage de la liste, afficher un court résumé incluant un calcul du nombre moyen de photo prises par jour"
   ]
  },
  {
   "cell_type": "code",
   "execution_count": 6,
   "id": "291fc9ec",
   "metadata": {},
   "outputs": [
    {
     "name": "stdout",
     "output_type": "stream",
     "text": [
      "{'destination': 'Imsouane', 'duree_jours': 4, 'nb_photos': 160}\n",
      "Nombre de voyages : 2\n",
      "Travel Journal:\n",
      "Voyage à Imsouane pendant 4 jours, avec en moyenne 40.0 photos par jour.\n",
      "Voyage à Bali pendant 13 jours, avec en moyenne 6.9 photos par jour.\n"
     ]
    }
   ],
   "source": [
    "# TODO Add new trips to the list of trips\n",
    "trip = {\n",
    "    \"destination\": \"Imsouane\",\n",
    "    \"duree_jours\": 4,\n",
    "    \"nb_photos\": 160\n",
    "}\n",
    "trip2 = {\n",
    "    \"destination\": \"Bali\",\n",
    "    \"duree_jours\": 13,\n",
    "    \"nb_photos\": 90\n",
    "}\n",
    "\n",
    "trip_list = [trip, trip2]\n",
    "\n",
    "\n",
    "# TODO Print one element of the trip_list\n",
    "print(trip_list[0])\n",
    "\n",
    "\n",
    "# TODO Print the number of trips in the trip_list\n",
    "print(\"Nombre de voyages :\", len(trip_list))\n",
    "\n",
    "\n",
    "# Loop through and print each trip\n",
    "print(\"Travel Journal:\")\n",
    "\n",
    "# TODO Loop through trip_list and print each trip\n",
    "for trip in trip_list:\n",
    "    destination = trip[\"destination\"]\n",
    "    duree = trip[\"duree_jours\"]\n",
    "    photos = trip[\"nb_photos\"]\n",
    "    moyenne = photos / duree\n",
    "    print(f\"Voyage à {destination} pendant {duree} jours, avec en moyenne {moyenne:.1f} photos par jour.\")"
   ]
  },
  {
   "cell_type": "markdown",
   "id": "4d0ea091",
   "metadata": {},
   "source": [
    "### 5 - Utiliser des fonctions \n",
    "On a écrit plusieurs fois le numéro du département de Montpellier. On sait qu'il ne va pas changer au cours du projet, dans ce cas une bonne pratique pour savoir de quoi on parle et d'éviter les erreurs de recopie est de définir une variable en début de projet qu'on pourra réutiliser dés que nécessaire :\n",
    "\n",
    "```DEPARTEMENT = 34```\n",
    "\n",
    "On a également écrit plein de fois le calcul du nombre de photos par jour. On peut créer une fonction que l'on pourra réutiliser dés que nécessairequi prendra en entrée un voyage, qui fera le calcul et qui retournera le nombre moyen de photo.\n",
    "\n",
    "Après le nom de la fonction, on ajoute entre \"\"\" de la documentation sur les paramètres d'entrée (type et explication) et sur les sorties \"\"\"."
   ]
  },
  {
   "cell_type": "code",
   "execution_count": 7,
   "id": "1724eb3a",
   "metadata": {},
   "outputs": [
    {
     "name": "stdout",
     "output_type": "stream",
     "text": [
      "Le voyage a permis de faire un total de photos journalier de Montpellier : 0.00\n"
     ]
    }
   ],
   "source": [
    "def compute_average_photos_per_day(trip):\n",
    "    \"\"\"\n",
    "    Calculate the average number of photos taken per day for a trip.\n",
    "\n",
    "\n",
    "    Parameters\n",
    "    ----------\n",
    "    trip (dict)\n",
    "        Dictionary containing trip details including 'photos_taken' and 'days_spent'.   \n",
    "\n",
    "    Returns\n",
    "    -------\n",
    "    float\n",
    "        Average number of photos taken per day.\n",
    "    \"\"\"\n",
    "\n",
    "\n",
    "    \n",
    "    if trip['days_spent'] == 0:\n",
    "        return 0.0\n",
    "    return trip['photos_taken'] / trip['days_spent']\n",
    "    \n",
    "# Example usage\n",
    "trip = {\n",
    "    \"city\": \"Montpellier\",\n",
    "    \"department\": 34,\n",
    "    \"photos_taken\": 150,\n",
    "    \"days_spent\": 0,\n",
    "}\n",
    "average_photos = compute_average_photos_per_day(trip)\n",
    "\n",
    "print(f\"Le voyage a permis de faire un total de photos journalier de {trip['city']} : {average_photos:.2f}\")\n",
    "\n"
   ]
  },
  {
   "cell_type": "markdown",
   "id": "bac621fe",
   "metadata": {},
   "source": [
    "**TODO**\n",
    "\n",
    "- Tester la fonction dans le case où ````photos_taken = 0````\n",
    "- Lire l'erreur\n",
    "- Adapter la fonction en utilisant une condition (if, else) pour renvoyer 0 dans ce cas."
   ]
  },
  {
   "cell_type": "code",
   "execution_count": 8,
   "id": "2caeba0f",
   "metadata": {},
   "outputs": [
    {
     "name": "stdout",
     "output_type": "stream",
     "text": [
      "Nombre moyen de photos avec 0 photo : 0.00\n"
     ]
    }
   ],
   "source": [
    "# TODO Test function with a trip that has 0 photos\n",
    "trip_zero_photos = {\n",
    "    \"city\": \"Montpellier\",\n",
    "    \"department\": \"DEPARTEMENT\",\n",
    "    \"photos_taken\": 0,\n",
    "    \"days_spent\": 5.5,\n",
    "}\n",
    "\n",
    "def compute_average_photos_per_day(trip):\n",
    "    if trip['days_spent'] == 0 or trip['photos_taken'] == 0:\n",
    "        return 0.0\n",
    "    else:\n",
    "        return trip['photos_taken'] / trip['days_spent']\n",
    "\n",
    "average_photos_zero = compute_average_photos_per_day(trip_zero_photos)\n",
    "print(f\"Nombre moyen de photos avec 0 photo : {average_photos_zero:.2f}\")"
   ]
  },
  {
   "cell_type": "code",
   "execution_count": 9,
   "id": "1ea11ba0",
   "metadata": {},
   "outputs": [
    {
     "name": "stdout",
     "output_type": "stream",
     "text": [
      "200\n"
     ]
    }
   ],
   "source": [
    "def compute_average_photos_per_day(trip):\n",
    "    \"\"\"\n",
    "    Calculate the average number of photos taken per day for a trip.\n",
    "\n",
    "    Parameters\n",
    "    ----------\n",
    "    trip (dict)\n",
    "        Dictionary containing trip details including 'photos_taken' and 'days_spent'.   \n",
    "\n",
    "    Returns\n",
    "    -------\n",
    "    float\n",
    "        Average number of photos taken per day. If 'photos_taken' is 0, returns 0.\n",
    "    \"\"\"\n",
    " \n",
    "    photos_taken = trip.get('photos_taken', 0)\n",
    "    days_spent = trip.get('days_spent', 0)\n",
    "\n",
    "    if photos_taken == 0 or days_spent == 0:\n",
    "        return 0.0\n",
    "\n",
    "    return photos_taken / days_spent\n",
    "print(photos_taken)\n",
    "\n"
   ]
  },
  {
   "cell_type": "code",
   "execution_count": null,
   "id": "0c64afe9",
   "metadata": {},
   "outputs": [],
   "source": []
  },
  {
   "cell_type": "markdown",
   "id": "bac9b0ad",
   "metadata": {},
   "source": [
    "### 6 - Compter les villes uniques visitées  \n",
    "Au lieu d'utiliser une boucle `for` pour parcourir les éléments d'une liste, on peut utiliser la **compréhension de liste**.\n",
    "\n",
    "__Exemple__\n",
    "\n",
    "\n",
    "```\n",
    "my_list = [100, 200, 300]\n",
    "comprehension_list = [value / 10 for value in my_list]\n",
    "comprehension_list\n",
    ">> [10.0, 20.0, 30.0]\n",
    "```\n",
    "\n",
    "**TODO**\n",
    "- Afficher la liste `trip_list` définie précédemment, vérifier qu'elle contient plusieurs villes différentes.\n",
    "- Créer la liste `cities` en adaptant l'exemple ci-dessus.\n",
    "- Affiche le nombre de villes différentes visitées, sans doublon. Utiliser `set(my_liste)`qui permet de conserver les éléments uniques d'une liste."
   ]
  },
  {
   "cell_type": "code",
   "execution_count": 10,
   "id": "2915a507",
   "metadata": {},
   "outputs": [
    {
     "name": "stdout",
     "output_type": "stream",
     "text": [
      "Villes uniques visitées : {'Imsouane', 'Montpellier', 'Bali'}\n",
      "Nombre de villes différentes : 3\n"
     ]
    }
   ],
   "source": [
    "# TODO Print trip_list\n",
    "trip_list = [\n",
    "    {\"city\": \"Montpellier\", \"photos_taken\": 150, \"days_spent\": 3},\n",
    "    {\"city\": \"Bali\", \"photos_taken\": 80, \"days_spent\": 2},\n",
    "    {\"city\": \"Imsouane\", \"photos_taken\": 60, \"days_spent\": 1},\n",
    "    {\"city\": \"Bali\", \"photos_taken\": 100, \"days_spent\": 4}\n",
    "]\n",
    "\n",
    "# Étape 2 : compréhension de liste pour extraire les villes\n",
    "cities = [trip[\"city\"] for trip in trip_list]\n",
    "\n",
    "# Étape 3 : utiliser un set pour trouver les villes uniques\n",
    "unique_cities = set(cities)\n",
    "\n",
    "# Résultat\n",
    "print(f\"Villes uniques visitées : {unique_cities}\")\n",
    "print(f\"Nombre de villes différentes : {len(unique_cities)}\")\n"
   ]
  },
  {
   "cell_type": "code",
   "execution_count": 11,
   "id": "ae25986e",
   "metadata": {},
   "outputs": [
    {
     "name": "stdout",
     "output_type": "stream",
     "text": [
      "Nombre de villes différentes visitées : 3\n"
     ]
    }
   ],
   "source": [
    "# TODO Extract all visited cities\n",
    "cities = [trip[\"city\"] for trip in trip_list]\n",
    "\n",
    "# TODO Create a set to get unique cities\n",
    "unique_cities = set(cities)\n",
    "\n",
    "# Print the number of unique cities\n",
    "print(f\"Nombre de villes différentes visitées : {len(unique_cities)}\")\n"
   ]
  },
  {
   "cell_type": "markdown",
   "id": "11c13169",
   "metadata": {},
   "source": [
    "### 7 - Trier les voyages par nombre de photos  \n",
    "\n",
    "**TODO**\n",
    "- Afficher les voyages du plus photographié au moins photographié. Utiliser la fonction [sorted](https://docs.python.org/3/library/functions.html#sorted) en allant lire la documentation de fonction."
   ]
  },
  {
   "cell_type": "markdown",
   "id": "f008f1ee",
   "metadata": {},
   "source": []
  },
  {
   "cell_type": "code",
   "execution_count": 3,
   "id": "ac2706fa",
   "metadata": {},
   "outputs": [
    {
     "name": "stdout",
     "output_type": "stream",
     "text": [
      "Voyages triés du plus photographié au moins photographié :\n",
      "\n",
      "Montpellier - 150 photos\n",
      "Bali - 100 photos\n",
      "Bali - 80 photos\n",
      "Imsouane - 60 photos\n"
     ]
    }
   ],
   "source": [
    "trip_list = [\n",
    "    {'city': 'Montpellier', 'photos_taken': 150, 'days_spent': 3},\n",
    "    {'city': 'Bali', 'photos_taken': 80, 'days_spent': 2},\n",
    "    {'city': 'Imsouane', 'photos_taken': 60, 'days_spent': 1},\n",
    "    {'city': 'Bali', 'photos_taken': 100, 'days_spent': 4}\n",
    "]\n",
    "\n",
    "trip_list.sort(key=lambda trip: trip[\"photos_taken\"], reverse=True)\n",
    "\n",
    "print(\"Voyages triés du plus photographié au moins photographié :\\n\")\n",
    "\n",
    "for trip in trip_list:\n",
    "    print(f\"{trip['city']} - {trip['photos_taken']} photos\")"
   ]
  },
  {
   "cell_type": "code",
   "execution_count": null,
   "id": "a8fc8a69",
   "metadata": {},
   "outputs": [],
   "source": []
  }
 ],
 "metadata": {
  "kernelspec": {
   "display_name": ".venv",
   "language": "python",
   "name": "python3"
  },
  "language_info": {
   "codemirror_mode": {
    "name": "ipython",
    "version": 3
   },
   "file_extension": ".py",
   "mimetype": "text/x-python",
   "name": "python",
   "nbconvert_exporter": "python",
   "pygments_lexer": "ipython3",
   "version": "3.12.3"
  }
 },
 "nbformat": 4,
 "nbformat_minor": 5
}
